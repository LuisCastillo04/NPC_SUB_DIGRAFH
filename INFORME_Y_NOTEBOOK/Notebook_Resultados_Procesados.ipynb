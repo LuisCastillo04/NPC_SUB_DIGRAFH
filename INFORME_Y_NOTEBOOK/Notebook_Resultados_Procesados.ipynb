{
 "cells": [
  {
   "cell_type": "markdown",
   "id": "7f24f0fa",
   "metadata": {},
   "source": [
    "# **Informe comparativo sobre algoritmos en Java y Python**"
   ]
  },
  {
   "cell_type": "code",
   "execution_count": 1,
   "id": "e0e4cf1c",
   "metadata": {},
   "outputs": [],
   "source": [
    "# Importacion de modulos requeridos\n",
    "import pandas as pd"
   ]
  },
  {
   "cell_type": "code",
   "execution_count": 42,
   "id": "d567bb02",
   "metadata": {},
   "outputs": [],
   "source": [
    "# Leer el CSV\n",
    "df_python_results = pd.read_csv('../NPC_SUB_DIGRAFH_PYTHON_CODE/results.csv', sep=';', encoding='utf-8')\n",
    "df_java_results = pd.read_csv('../NPC_SUB_DIGRAFH_JAVA_CODE/results.csv', sep=';', encoding='utf-8')"
   ]
  },
  {
   "cell_type": "markdown",
   "id": "8793d48e",
   "metadata": {},
   "source": [
    "## **Verificación de que los datos fueron cargados correctamente**"
   ]
  },
  {
   "cell_type": "code",
   "execution_count": 43,
   "id": "ff88c6ed",
   "metadata": {},
   "outputs": [
    {
     "name": "stdout",
     "output_type": "stream",
     "text": [
      "  vertices                                           aristas  n  k  \\\n",
      "0  [1...8]  [(1, 3), (1, 2), (2, 6), (4, 6), (6, 7), (7, 8)]  6  2   \n",
      "1  [1...8]  [(1, 3), (1, 2), (2, 6), (4, 6), (6, 7), (7, 8)]  6  2   \n",
      "\n",
      "              metodo                 tiempo  \n",
      "0  BipartiteSubsetBF  5.080000264570117e-05  \n",
      "1  BipartiteSubsetDC  4.840000183321535e-05  \n",
      "-----------------------------------\n",
      "Datos Java\n",
      "  vertices                                           aristas  n  k  \\\n",
      "0  [1...8]  [(1, 3), (1, 2), (2, 6), (4, 6), (6, 7), (7, 8)]  6  2   \n",
      "1  [1...8]  [(1, 3), (1, 2), (2, 6), (4, 6), (6, 7), (7, 8)]  6  2   \n",
      "\n",
      "              metodo                 tiempo  \n",
      "0  BipartiteSubsetBF  5.080000264570117e-05  \n",
      "1  BipartiteSubsetDC  4.840000183321535e-05  \n"
     ]
    }
   ],
   "source": [
    "# Ver las primeras filas\n",
    "print(df_python_results.head(2))\n",
    "\n",
    "print('-----------------------------------')\n",
    "print('Datos Java')\n",
    "print(df_python_results.head(2))"
   ]
  },
  {
   "cell_type": "code",
   "execution_count": 44,
   "id": "ccccb285",
   "metadata": {},
   "outputs": [
    {
     "name": "stdout",
     "output_type": "stream",
     "text": [
      "<class 'pandas.core.frame.DataFrame'>\n",
      "RangeIndex: 30 entries, 0 to 29\n",
      "Data columns (total 6 columns):\n",
      " #   Column    Non-Null Count  Dtype \n",
      "---  ------    --------------  ----- \n",
      " 0   vertices  30 non-null     object\n",
      " 1   aristas   30 non-null     object\n",
      " 2   n         30 non-null     int64 \n",
      " 3   k         30 non-null     int64 \n",
      " 4   metodo    30 non-null     object\n",
      " 5   tiempo    30 non-null     object\n",
      "dtypes: int64(2), object(4)\n",
      "memory usage: 1.5+ KB\n",
      "<class 'pandas.core.frame.DataFrame'>\n",
      "RangeIndex: 10 entries, 0 to 9\n",
      "Data columns (total 7 columns):\n",
      " #   Column     Non-Null Count  Dtype  \n",
      "---  ------     --------------  -----  \n",
      " 0   vertices   10 non-null     object \n",
      " 1   aristas    10 non-null     object \n",
      " 2   n          10 non-null     int64  \n",
      " 3   k          10 non-null     int64  \n",
      " 4   tiempo BF  10 non-null     float64\n",
      " 5   tiempo DC  10 non-null     float64\n",
      " 6   tiempo BT  10 non-null     float64\n",
      "dtypes: float64(3), int64(2), object(2)\n",
      "memory usage: 692.0+ bytes\n"
     ]
    }
   ],
   "source": [
    "df_python_results.info()\n",
    "df_java_results.info()"
   ]
  },
  {
   "cell_type": "markdown",
   "id": "755c7914",
   "metadata": {},
   "source": [
    "## **Grafica comparativa de tiempo Python vs Java**"
   ]
  },
  {
   "cell_type": "code",
   "execution_count": null,
   "id": "fbfd92f1",
   "metadata": {},
   "outputs": [],
   "source": []
  }
 ],
 "metadata": {
  "kernelspec": {
   "display_name": "Python 3",
   "language": "python",
   "name": "python3"
  },
  "language_info": {
   "codemirror_mode": {
    "name": "ipython",
    "version": 3
   },
   "file_extension": ".py",
   "mimetype": "text/x-python",
   "name": "python",
   "nbconvert_exporter": "python",
   "pygments_lexer": "ipython3",
   "version": "3.13.5"
  }
 },
 "nbformat": 4,
 "nbformat_minor": 5
}

{
 "cells": [
  {
   "cell_type": "markdown",
   "id": "7f24f0fa",
   "metadata": {},
   "source": [
    "# **Informe comparativo sobre algoritmos en Java y Python**"
   ]
  },
  {
   "cell_type": "code",
   "execution_count": null,
   "id": "d567bb02",
   "metadata": {
    "vscode": {
     "languageId": "plaintext"
    }
   },
   "outputs": [],
   "source": [
    "print(\"hola mundo\")"
   ]
  }
 ],
 "metadata": {
  "language_info": {
   "name": "python"
  }
 },
 "nbformat": 4,
 "nbformat_minor": 5
}

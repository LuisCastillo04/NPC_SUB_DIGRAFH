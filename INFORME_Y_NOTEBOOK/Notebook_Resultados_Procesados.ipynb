{
 "cells": [
  {
   "cell_type": "markdown",
   "id": "7f24f0fa",
   "metadata": {},
   "source": [
    "# **Informe comparativo sobre algoritmos en Java y Python**"
   ]
  },
  {
   "cell_type": "code",
   "execution_count": 1,
   "id": "e0e4cf1c",
   "metadata": {},
   "outputs": [],
   "source": [
    "# Importacion de modulos requeridos\n",
    "import pandas as pd"
   ]
  },
  {
   "cell_type": "code",
   "execution_count": null,
   "id": "d567bb02",
   "metadata": {},
   "outputs": [],
   "source": [
    "# Leer el CSV\n",
    "df_python_results = pd.read_csv('../NPC_SUB_DIGRAFH_PYTHON_CODE//results.csv', sep=';', encoding='utf-8')\n",
    "df_java_results = pd.read_csv('../NPC_SUB_DIGRAFH_JAVA_CODE/results.csv')"
   ]
  },
  {
   "cell_type": "code",
   "execution_count": null,
   "id": "ff88c6ed",
   "metadata": {},
   "outputs": [
    {
     "name": "stdout",
     "output_type": "stream",
     "text": [
      "  vertices             aristas  n  k  tiempo BF  tiempo DC  tiempo BT\n",
      "0  [1...5]  [(1 : 2), (1 : 4)]  2  0   0.000375   0.000147   0.000103\n",
      "1  [1...4]           [(3 : 4)]  1  1   0.000229   0.000124   0.000076\n"
     ]
    }
   ],
   "source": [
    "# Ver las primeras filas\n",
    "print(df_python_results.head(2))\n",
    "\n",
    "print(\"Datos python\")\n",
    "print(df_python_results.head(2))"
   ]
  }
 ],
 "metadata": {
  "kernelspec": {
   "display_name": "Python 3",
   "language": "python",
   "name": "python3"
  },
  "language_info": {
   "codemirror_mode": {
    "name": "ipython",
    "version": 3
   },
   "file_extension": ".py",
   "mimetype": "text/x-python",
   "name": "python",
   "nbconvert_exporter": "python",
   "pygments_lexer": "ipython3",
   "version": "3.13.5"
  }
 },
 "nbformat": 4,
 "nbformat_minor": 5
}

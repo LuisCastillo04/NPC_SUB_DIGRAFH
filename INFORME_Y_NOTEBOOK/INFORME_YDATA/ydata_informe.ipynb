{
 "cells": [
  {
   "cell_type": "markdown",
   "id": "f884c899",
   "metadata": {},
   "source": [
    "### **Descargar modulos**"
   ]
  },
  {
   "cell_type": "code",
   "execution_count": 26,
   "id": "1f284fd5",
   "metadata": {},
   "outputs": [],
   "source": [
    "#!pip uninstall pandas ydata-profiling -y"
   ]
  },
  {
   "cell_type": "code",
   "execution_count": 27,
   "id": "ad7c52bc",
   "metadata": {},
   "outputs": [
    {
     "name": "stdout",
     "output_type": "stream",
     "text": [
      "Requirement already satisfied: pandas==2.1.4 in c:\\users\\luis\\appdata\\local\\programs\\python\\python312\\lib\\site-packages (2.1.4)\n",
      "Requirement already satisfied: numpy<2,>=1.26.0 in c:\\users\\luis\\appdata\\local\\programs\\python\\python312\\lib\\site-packages (from pandas==2.1.4) (1.26.4)\n",
      "Requirement already satisfied: python-dateutil>=2.8.2 in c:\\users\\luis\\appdata\\local\\programs\\python\\python312\\lib\\site-packages (from pandas==2.1.4) (2.9.0.post0)\n",
      "Requirement already satisfied: pytz>=2020.1 in c:\\users\\luis\\appdata\\local\\programs\\python\\python312\\lib\\site-packages (from pandas==2.1.4) (2025.2)\n",
      "Requirement already satisfied: tzdata>=2022.1 in c:\\users\\luis\\appdata\\local\\programs\\python\\python312\\lib\\site-packages (from pandas==2.1.4) (2025.2)\n",
      "Requirement already satisfied: six>=1.5 in c:\\users\\luis\\appdata\\local\\programs\\python\\python312\\lib\\site-packages (from python-dateutil>=2.8.2->pandas==2.1.4) (1.16.0)\n",
      "Note: you may need to restart the kernel to use updated packages.\n"
     ]
    },
    {
     "name": "stderr",
     "output_type": "stream",
     "text": [
      "\n",
      "[notice] A new release of pip is available: 24.3.1 -> 25.1.1\n",
      "[notice] To update, run: python.exe -m pip install --upgrade pip\n"
     ]
    }
   ],
   "source": [
    "pip install pandas==2.1.4"
   ]
  },
  {
   "cell_type": "code",
   "execution_count": 28,
   "id": "9f90c6b3",
   "metadata": {},
   "outputs": [
    {
     "name": "stdout",
     "output_type": "stream",
     "text": [
      "pandas: 2.1.4\n"
     ]
    }
   ],
   "source": [
    "import pandas as pd\n",
    "print(\"pandas:\", pd.__version__)                 # pandas: 2.1.4"
   ]
  },
  {
   "cell_type": "code",
   "execution_count": 29,
   "id": "e0e08b88",
   "metadata": {},
   "outputs": [
    {
     "name": "stdout",
     "output_type": "stream",
     "text": [
      "Requirement already satisfied: ydata-profiling==4.16.1 in c:\\users\\luis\\appdata\\local\\programs\\python\\python312\\lib\\site-packages (4.16.1)Note: you may need to restart the kernel to use updated packages.\n",
      "\n",
      "Requirement already satisfied: scipy<1.16,>=1.4.1 in c:\\users\\luis\\appdata\\local\\programs\\python\\python312\\lib\\site-packages (from ydata-profiling==4.16.1) (1.14.1)\n",
      "Requirement already satisfied: pandas!=1.4.0,<3.0,>1.1 in c:\\users\\luis\\appdata\\local\\programs\\python\\python312\\lib\\site-packages (from ydata-profiling==4.16.1) (2.1.4)\n",
      "Requirement already satisfied: matplotlib<=3.10,>=3.5 in c:\\users\\luis\\appdata\\local\\programs\\python\\python312\\lib\\site-packages (from ydata-profiling==4.16.1) (3.9.2)\n",
      "Requirement already satisfied: pydantic>=2 in c:\\users\\luis\\appdata\\local\\programs\\python\\python312\\lib\\site-packages (from ydata-profiling==4.16.1) (2.11.7)\n",
      "Requirement already satisfied: PyYAML<6.1,>=5.0.0 in c:\\users\\luis\\appdata\\local\\programs\\python\\python312\\lib\\site-packages (from ydata-profiling==4.16.1) (6.0.2)\n",
      "Requirement already satisfied: jinja2<3.2,>=2.11.1 in c:\\users\\luis\\appdata\\local\\programs\\python\\python312\\lib\\site-packages (from ydata-profiling==4.16.1) (3.1.4)\n",
      "Requirement already satisfied: visions<0.8.2,>=0.7.5 in c:\\users\\luis\\appdata\\local\\programs\\python\\python312\\lib\\site-packages (from visions[type_image_path]<0.8.2,>=0.7.5->ydata-profiling==4.16.1) (0.8.1)\n",
      "Requirement already satisfied: numpy<2.2,>=1.16.0 in c:\\users\\luis\\appdata\\local\\programs\\python\\python312\\lib\\site-packages (from ydata-profiling==4.16.1) (1.26.4)\n",
      "Requirement already satisfied: htmlmin==0.1.12 in c:\\users\\luis\\appdata\\local\\programs\\python\\python312\\lib\\site-packages (from ydata-profiling==4.16.1) (0.1.12)\n",
      "Requirement already satisfied: phik<0.13,>=0.11.1 in c:\\users\\luis\\appdata\\local\\programs\\python\\python312\\lib\\site-packages (from ydata-profiling==4.16.1) (0.12.5)\n",
      "Requirement already satisfied: requests<3,>=2.24.0 in c:\\users\\luis\\appdata\\local\\programs\\python\\python312\\lib\\site-packages (from ydata-profiling==4.16.1) (2.32.3)\n",
      "Requirement already satisfied: tqdm<5,>=4.48.2 in c:\\users\\luis\\appdata\\local\\programs\\python\\python312\\lib\\site-packages (from ydata-profiling==4.16.1) (4.67.1)\n",
      "Requirement already satisfied: seaborn<0.14,>=0.10.1 in c:\\users\\luis\\appdata\\local\\programs\\python\\python312\\lib\\site-packages (from ydata-profiling==4.16.1) (0.13.2)\n",
      "Requirement already satisfied: multimethod<2,>=1.4 in c:\\users\\luis\\appdata\\local\\programs\\python\\python312\\lib\\site-packages (from ydata-profiling==4.16.1) (1.12)\n",
      "Requirement already satisfied: statsmodels<1,>=0.13.2 in c:\\users\\luis\\appdata\\local\\programs\\python\\python312\\lib\\site-packages (from ydata-profiling==4.16.1) (0.14.5)\n",
      "Requirement already satisfied: typeguard<5,>=3 in c:\\users\\luis\\appdata\\local\\programs\\python\\python312\\lib\\site-packages (from ydata-profiling==4.16.1) (4.4.4)\n",
      "Requirement already satisfied: imagehash==4.3.1 in c:\\users\\luis\\appdata\\local\\programs\\python\\python312\\lib\\site-packages (from ydata-profiling==4.16.1) (4.3.1)\n",
      "Requirement already satisfied: wordcloud>=1.9.3 in c:\\users\\luis\\appdata\\local\\programs\\python\\python312\\lib\\site-packages (from ydata-profiling==4.16.1) (1.9.4)\n",
      "Requirement already satisfied: dacite>=1.8 in c:\\users\\luis\\appdata\\local\\programs\\python\\python312\\lib\\site-packages (from ydata-profiling==4.16.1) (1.9.2)\n",
      "Requirement already satisfied: numba<=0.61,>=0.56.0 in c:\\users\\luis\\appdata\\local\\programs\\python\\python312\\lib\\site-packages (from ydata-profiling==4.16.1) (0.61.0)\n",
      "Requirement already satisfied: PyWavelets in c:\\users\\luis\\appdata\\local\\programs\\python\\python312\\lib\\site-packages (from imagehash==4.3.1->ydata-profiling==4.16.1) (1.8.0)\n",
      "Requirement already satisfied: pillow in c:\\users\\luis\\appdata\\local\\programs\\python\\python312\\lib\\site-packages (from imagehash==4.3.1->ydata-profiling==4.16.1) (11.0.0)\n",
      "Requirement already satisfied: MarkupSafe>=2.0 in c:\\users\\luis\\appdata\\local\\programs\\python\\python312\\lib\\site-packages (from jinja2<3.2,>=2.11.1->ydata-profiling==4.16.1) (2.1.5)\n",
      "Requirement already satisfied: contourpy>=1.0.1 in c:\\users\\luis\\appdata\\local\\programs\\python\\python312\\lib\\site-packages (from matplotlib<=3.10,>=3.5->ydata-profiling==4.16.1) (1.3.0)\n",
      "Requirement already satisfied: cycler>=0.10 in c:\\users\\luis\\appdata\\local\\programs\\python\\python312\\lib\\site-packages (from matplotlib<=3.10,>=3.5->ydata-profiling==4.16.1) (0.12.1)\n",
      "Requirement already satisfied: fonttools>=4.22.0 in c:\\users\\luis\\appdata\\local\\programs\\python\\python312\\lib\\site-packages (from matplotlib<=3.10,>=3.5->ydata-profiling==4.16.1) (4.54.1)\n",
      "Requirement already satisfied: kiwisolver>=1.3.1 in c:\\users\\luis\\appdata\\local\\programs\\python\\python312\\lib\\site-packages (from matplotlib<=3.10,>=3.5->ydata-profiling==4.16.1) (1.4.7)\n",
      "Requirement already satisfied: packaging>=20.0 in c:\\users\\luis\\appdata\\local\\programs\\python\\python312\\lib\\site-packages (from matplotlib<=3.10,>=3.5->ydata-profiling==4.16.1) (24.1)\n",
      "Requirement already satisfied: pyparsing>=2.3.1 in c:\\users\\luis\\appdata\\local\\programs\\python\\python312\\lib\\site-packages (from matplotlib<=3.10,>=3.5->ydata-profiling==4.16.1) (3.2.0)\n",
      "Requirement already satisfied: python-dateutil>=2.7 in c:\\users\\luis\\appdata\\local\\programs\\python\\python312\\lib\\site-packages (from matplotlib<=3.10,>=3.5->ydata-profiling==4.16.1) (2.9.0.post0)\n",
      "Requirement already satisfied: llvmlite<0.45,>=0.44.0dev0 in c:\\users\\luis\\appdata\\local\\programs\\python\\python312\\lib\\site-packages (from numba<=0.61,>=0.56.0->ydata-profiling==4.16.1) (0.44.0)\n",
      "Requirement already satisfied: pytz>=2020.1 in c:\\users\\luis\\appdata\\local\\programs\\python\\python312\\lib\\site-packages (from pandas!=1.4.0,<3.0,>1.1->ydata-profiling==4.16.1) (2025.2)\n",
      "Requirement already satisfied: tzdata>=2022.1 in c:\\users\\luis\\appdata\\local\\programs\\python\\python312\\lib\\site-packages (from pandas!=1.4.0,<3.0,>1.1->ydata-profiling==4.16.1) (2025.2)\n",
      "Requirement already satisfied: joblib>=0.14.1 in c:\\users\\luis\\appdata\\local\\programs\\python\\python312\\lib\\site-packages (from phik<0.13,>=0.11.1->ydata-profiling==4.16.1) (1.5.1)\n",
      "Requirement already satisfied: annotated-types>=0.6.0 in c:\\users\\luis\\appdata\\local\\programs\\python\\python312\\lib\\site-packages (from pydantic>=2->ydata-profiling==4.16.1) (0.7.0)\n",
      "Requirement already satisfied: pydantic-core==2.33.2 in c:\\users\\luis\\appdata\\local\\programs\\python\\python312\\lib\\site-packages (from pydantic>=2->ydata-profiling==4.16.1) (2.33.2)\n",
      "Requirement already satisfied: typing-extensions>=4.12.2 in c:\\users\\luis\\appdata\\local\\programs\\python\\python312\\lib\\site-packages (from pydantic>=2->ydata-profiling==4.16.1) (4.14.1)\n",
      "Requirement already satisfied: typing-inspection>=0.4.0 in c:\\users\\luis\\appdata\\local\\programs\\python\\python312\\lib\\site-packages (from pydantic>=2->ydata-profiling==4.16.1) (0.4.1)\n",
      "Requirement already satisfied: charset-normalizer<4,>=2 in c:\\users\\luis\\appdata\\local\\programs\\python\\python312\\lib\\site-packages (from requests<3,>=2.24.0->ydata-profiling==4.16.1) (3.3.2)\n",
      "Requirement already satisfied: idna<4,>=2.5 in c:\\users\\luis\\appdata\\local\\programs\\python\\python312\\lib\\site-packages (from requests<3,>=2.24.0->ydata-profiling==4.16.1) (3.10)\n",
      "Requirement already satisfied: urllib3<3,>=1.21.1 in c:\\users\\luis\\appdata\\local\\programs\\python\\python312\\lib\\site-packages (from requests<3,>=2.24.0->ydata-profiling==4.16.1) (2.2.3)\n",
      "Requirement already satisfied: certifi>=2017.4.17 in c:\\users\\luis\\appdata\\local\\programs\\python\\python312\\lib\\site-packages (from requests<3,>=2.24.0->ydata-profiling==4.16.1) (2024.8.30)\n",
      "Requirement already satisfied: patsy>=0.5.6 in c:\\users\\luis\\appdata\\local\\programs\\python\\python312\\lib\\site-packages (from statsmodels<1,>=0.13.2->ydata-profiling==4.16.1) (1.0.1)\n",
      "Requirement already satisfied: colorama in c:\\users\\luis\\appdata\\local\\programs\\python\\python312\\lib\\site-packages (from tqdm<5,>=4.48.2->ydata-profiling==4.16.1) (0.4.6)\n",
      "Requirement already satisfied: attrs>=19.3.0 in c:\\users\\luis\\appdata\\local\\programs\\python\\python312\\lib\\site-packages (from visions<0.8.2,>=0.7.5->visions[type_image_path]<0.8.2,>=0.7.5->ydata-profiling==4.16.1) (24.2.0)\n",
      "Requirement already satisfied: networkx>=2.4 in c:\\users\\luis\\appdata\\local\\programs\\python\\python312\\lib\\site-packages (from visions<0.8.2,>=0.7.5->visions[type_image_path]<0.8.2,>=0.7.5->ydata-profiling==4.16.1) (3.5)\n",
      "Requirement already satisfied: puremagic in c:\\users\\luis\\appdata\\local\\programs\\python\\python312\\lib\\site-packages (from visions<0.8.2,>=0.7.5->visions[type_image_path]<0.8.2,>=0.7.5->ydata-profiling==4.16.1) (1.30)\n",
      "Requirement already satisfied: six>=1.5 in c:\\users\\luis\\appdata\\local\\programs\\python\\python312\\lib\\site-packages (from python-dateutil>=2.7->matplotlib<=3.10,>=3.5->ydata-profiling==4.16.1) (1.16.0)\n"
     ]
    },
    {
     "name": "stderr",
     "output_type": "stream",
     "text": [
      "\n",
      "[notice] A new release of pip is available: 24.3.1 -> 25.1.1\n",
      "[notice] To update, run: python.exe -m pip install --upgrade pip\n"
     ]
    }
   ],
   "source": [
    "pip install ydata-profiling==4.16.1"
   ]
  },
  {
   "cell_type": "code",
   "execution_count": 30,
   "id": "76914731",
   "metadata": {},
   "outputs": [
    {
     "name": "stdout",
     "output_type": "stream",
     "text": [
      "ydata-profiling: v4.16.1\n"
     ]
    }
   ],
   "source": [
    "import ydata_profiling\n",
    "print(\"ydata-profiling:\", ydata_profiling.__version__)  # ydata-profiling: 4.3.0"
   ]
  },
  {
   "cell_type": "code",
   "execution_count": 31,
   "id": "4ef737ea",
   "metadata": {},
   "outputs": [],
   "source": [
    "#pip install scipy==1.11.4"
   ]
  },
  {
   "cell_type": "code",
   "execution_count": 32,
   "id": "484ffec3",
   "metadata": {},
   "outputs": [
    {
     "name": "stdout",
     "output_type": "stream",
     "text": [
      "\n",
      "--- Procesando `npc_sub_digrafh_python` (../../NPC_SUB_DIGRAFH_PYTHON_CODE/results.csv) ---\n"
     ]
    },
    {
     "name": "stderr",
     "output_type": "stream",
     "text": [
      "100%|██████████| 9/9 [00:00<?, ?it/s]/14 [00:00<00:00, 59.00it/s, Describe variable: ops BT]   \n",
      "Summarize dataset:  69%|██████▉   | 11/16 [00:00<00:00, 59.00it/s, Calculate auto correlation]c:\\Users\\Luis\\AppData\\Local\\Programs\\Python\\Python312\\Lib\\site-packages\\ydata_profiling\\model\\correlations.py:87: UserWarning: There was an attempt to calculate the auto correlation, but this failed.\n",
      "To hide this warning, disable the calculation\n",
      "(using `df.profile_report(correlations={\"auto\": {\"calculate\": False}})`\n",
      "If this is problematic for your use case, please report this as an issue:\n",
      "https://github.com/ydataai/ydata-profiling/issues\n",
      "(include the error message: 'putmask: first argument must be an array')\n",
      "  warnings.warn(\n",
      "Summarize dataset: 100%|██████████| 100/100 [00:11<00:00,  8.91it/s, Completed]                 \n",
      "Generate report structure: 100%|██████████| 1/1 [00:02<00:00,  2.71s/it]\n",
      "Render HTML: 100%|██████████| 1/1 [00:00<00:00,  1.48it/s]\n",
      "Export report to file: 100%|██████████| 1/1 [00:00<00:00, 124.45it/s]\n"
     ]
    },
    {
     "name": "stdout",
     "output_type": "stream",
     "text": [
      "→ Guardado: Report_numeric_npc_sub_digrafh_python.html\n",
      "\n",
      "--- Procesando `npc_sub_digrafh_java` (../../NPC_SUB_DIGRAFH_JAVA_CODE/results.csv) ---\n"
     ]
    },
    {
     "name": "stderr",
     "output_type": "stream",
     "text": [
      "100%|██████████| 5/5 [00:00<?, ?it/s]/10 [00:00<00:00, 81.98it/s, Describe variable: tiempo BT]\n",
      "Summarize dataset: 100%|██████████| 39/39 [00:03<00:00, 11.47it/s, Completed]                   \n",
      "Generate report structure: 100%|██████████| 1/1 [00:01<00:00,  1.65s/it]\n",
      "Render HTML: 100%|██████████| 1/1 [00:00<00:00,  3.74it/s]\n",
      "Export report to file: 100%|██████████| 1/1 [00:00<00:00, 156.97it/s]"
     ]
    },
    {
     "name": "stdout",
     "output_type": "stream",
     "text": [
      "→ Guardado: Report_numeric_npc_sub_digrafh_java.html\n"
     ]
    },
    {
     "name": "stderr",
     "output_type": "stream",
     "text": [
      "\n"
     ]
    }
   ],
   "source": [
    "import os\n",
    "import pandas as pd\n",
    "import numpy as np\n",
    "from ydata_profiling import ProfileReport\n",
    "\n",
    "csv_paths = [\n",
    "    '../../NPC_SUB_DIGRAFH_PYTHON_CODE/results.csv',\n",
    "    '../../NPC_SUB_DIGRAFH_JAVA_CODE/results.csv'\n",
    "]\n",
    "\n",
    "metric_cols = ['tiempo BF','tiempo DC','tiempo BT']\n",
    "\n",
    "for path in csv_paths:\n",
    "    # <-- aquí sacamos el nombre de la carpeta contenedora\n",
    "    parent = os.path.basename( os.path.dirname(path) )\n",
    "    name   = parent.lower().replace('_code','')  # opcional: limpiamos el sufijo\n",
    "    \n",
    "    print(f\"\\n--- Procesando `{name}` ({path}) ---\")\n",
    "    df = pd.read_csv(path, sep=';', encoding='utf-8')\n",
    "\n",
    "    # Reemplazar TIMEOUT y convertir a float\n",
    "    for col in metric_cols:\n",
    "        if col in df.columns:\n",
    "            df[col] = pd.to_numeric(df[col].replace(\"TIMEOUT\", np.nan),\n",
    "                                     errors='coerce')\n",
    "\n",
    "    # Filtrar sólo numéricos\n",
    "    df_num = df.select_dtypes(include=[np.number])\n",
    "\n",
    "    # Generar el reporte (desactivando χ² en num y cat)\n",
    "    profile = ProfileReport(\n",
    "        df_num,\n",
    "        title=f\"Reporte_numérico_{name}\",\n",
    "        explorative=True,\n",
    "        minimal=False,\n",
    "        vars={\n",
    "            \"num\": { \"chi_squared_threshold\": 0.0 },\n",
    "            \"cat\": { \"chi_squared_threshold\": 0.0 }\n",
    "        }\n",
    "    )\n",
    "\n",
    "    # <-- ahora los nombres son distintos: e.g. Report_numeric_npc_sub_digrafh_python\n",
    "    out_file = f\"Report_numeric_{name}.html\"\n",
    "    profile.to_file(out_file)\n",
    "    print(f\"→ Guardado: {out_file}\")\n"
   ]
  }
 ],
 "metadata": {
  "kernelspec": {
   "display_name": "Python 3",
   "language": "python",
   "name": "python3"
  },
  "language_info": {
   "codemirror_mode": {
    "name": "ipython",
    "version": 3
   },
   "file_extension": ".py",
   "mimetype": "text/x-python",
   "name": "python",
   "nbconvert_exporter": "python",
   "pygments_lexer": "ipython3",
   "version": "3.12.2"
  }
 },
 "nbformat": 4,
 "nbformat_minor": 5
}

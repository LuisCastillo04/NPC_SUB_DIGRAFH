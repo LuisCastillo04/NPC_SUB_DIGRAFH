{
 "cells": [
  {
   "cell_type": "markdown",
   "id": "f884c899",
   "metadata": {},
   "source": [
    "### **Descargar modulos**"
   ]
  },
  {
   "cell_type": "code",
   "execution_count": null,
   "id": "1f284fd5",
   "metadata": {},
   "outputs": [],
   "source": [
    "#!pip uninstall pandas ydata-profiling -y"
   ]
  },
  {
   "cell_type": "code",
   "execution_count": 2,
   "id": "ad7c52bc",
   "metadata": {},
   "outputs": [
    {
     "name": "stdout",
     "output_type": "stream",
     "text": [
      "Collecting pandas==2.1.4\n",
      "  Downloading pandas-2.1.4-cp312-cp312-win_amd64.whl.metadata (18 kB)\n",
      "Collecting numpy<2,>=1.26.0 (from pandas==2.1.4)\n",
      "  Downloading numpy-1.26.4-cp312-cp312-win_amd64.whl.metadata (61 kB)\n",
      "Requirement already satisfied: python-dateutil>=2.8.2 in c:\\users\\luis\\appdata\\local\\programs\\python\\python312\\lib\\site-packages (from pandas==2.1.4) (2.9.0.post0)\n",
      "Collecting pytz>=2020.1 (from pandas==2.1.4)\n",
      "  Using cached pytz-2025.2-py2.py3-none-any.whl.metadata (22 kB)\n",
      "Collecting tzdata>=2022.1 (from pandas==2.1.4)\n",
      "  Using cached tzdata-2025.2-py2.py3-none-any.whl.metadata (1.4 kB)\n",
      "Requirement already satisfied: six>=1.5 in c:\\users\\luis\\appdata\\local\\programs\\python\\python312\\lib\\site-packages (from python-dateutil>=2.8.2->pandas==2.1.4) (1.16.0)\n",
      "Downloading pandas-2.1.4-cp312-cp312-win_amd64.whl (10.5 MB)\n",
      "   ---------------------------------------- 0.0/10.5 MB ? eta -:--:--\n",
      "   -- ------------------------------------- 0.8/10.5 MB 4.2 MB/s eta 0:00:03\n",
      "   ----- ---------------------------------- 1.6/10.5 MB 4.2 MB/s eta 0:00:03\n",
      "   --------- ------------------------------ 2.6/10.5 MB 4.4 MB/s eta 0:00:02\n",
      "   ------------- -------------------------- 3.7/10.5 MB 4.5 MB/s eta 0:00:02\n",
      "   ----------------- ---------------------- 4.7/10.5 MB 4.7 MB/s eta 0:00:02\n",
      "   ---------------------- ----------------- 6.0/10.5 MB 4.9 MB/s eta 0:00:01\n",
      "   --------------------------- ------------ 7.3/10.5 MB 5.0 MB/s eta 0:00:01\n",
      "   ------------------------------- -------- 8.4/10.5 MB 5.1 MB/s eta 0:00:01\n",
      "   ------------------------------------- -- 10.0/10.5 MB 5.3 MB/s eta 0:00:01\n",
      "   ---------------------------------------- 10.5/10.5 MB 5.2 MB/s eta 0:00:00\n",
      "Downloading numpy-1.26.4-cp312-cp312-win_amd64.whl (15.5 MB)\n",
      "   ---------------------------------------- 0.0/15.5 MB ? eta -:--:--\n",
      "   -- ------------------------------------- 1.0/15.5 MB 7.2 MB/s eta 0:00:03\n",
      "   ------ --------------------------------- 2.6/15.5 MB 6.9 MB/s eta 0:00:02\n",
      "   ---------- ----------------------------- 4.2/15.5 MB 7.0 MB/s eta 0:00:02\n",
      "   -------------- ------------------------- 5.8/15.5 MB 7.2 MB/s eta 0:00:02\n",
      "   ------------------- -------------------- 7.6/15.5 MB 7.5 MB/s eta 0:00:02\n",
      "   ------------------------ --------------- 9.4/15.5 MB 7.6 MB/s eta 0:00:01\n",
      "   ----------------------------- ---------- 11.3/15.5 MB 7.8 MB/s eta 0:00:01\n",
      "   ---------------------------------- ----- 13.4/15.5 MB 8.1 MB/s eta 0:00:01\n",
      "   ---------------------------------------  15.5/15.5 MB 8.2 MB/s eta 0:00:01\n",
      "   ---------------------------------------- 15.5/15.5 MB 8.1 MB/s eta 0:00:00\n",
      "Using cached pytz-2025.2-py2.py3-none-any.whl (509 kB)\n",
      "Using cached tzdata-2025.2-py2.py3-none-any.whl (347 kB)\n",
      "Installing collected packages: pytz, tzdata, numpy, pandas\n",
      "  Attempting uninstall: numpy\n",
      "    Found existing installation: numpy 2.1.3\n",
      "    Uninstalling numpy-2.1.3:\n",
      "      Successfully uninstalled numpy-2.1.3\n",
      "Successfully installed numpy-1.26.4 pandas-2.1.4 pytz-2025.2 tzdata-2025.2\n",
      "Note: you may need to restart the kernel to use updated packages.\n"
     ]
    },
    {
     "name": "stderr",
     "output_type": "stream",
     "text": [
      "\n",
      "[notice] A new release of pip is available: 24.3.1 -> 25.1.1\n",
      "[notice] To update, run: python.exe -m pip install --upgrade pip\n"
     ]
    }
   ],
   "source": [
    "pip install pandas==2.1.4"
   ]
  },
  {
   "cell_type": "code",
   "execution_count": 3,
   "id": "9f90c6b3",
   "metadata": {},
   "outputs": [
    {
     "name": "stdout",
     "output_type": "stream",
     "text": [
      "pandas: 2.1.4\n"
     ]
    }
   ],
   "source": [
    "import pandas as pd\n",
    "print(\"pandas:\", pd.__version__)                 # pandas: 2.1.4"
   ]
  },
  {
   "cell_type": "code",
   "execution_count": 5,
   "id": "e0e08b88",
   "metadata": {},
   "outputs": [
    {
     "name": "stdout",
     "output_type": "stream",
     "text": [
      "Collecting ydata-profiling==4.16.1\n",
      "  Using cached ydata_profiling-4.16.1-py2.py3-none-any.whl.metadata (22 kB)\n",
      "Requirement already satisfied: scipy<1.16,>=1.4.1 in c:\\users\\luis\\appdata\\local\\programs\\python\\python312\\lib\\site-packages (from ydata-profiling==4.16.1) (1.14.1)\n",
      "Requirement already satisfied: pandas!=1.4.0,<3.0,>1.1 in c:\\users\\luis\\appdata\\local\\programs\\python\\python312\\lib\\site-packages (from ydata-profiling==4.16.1) (2.1.4)\n",
      "Requirement already satisfied: matplotlib<=3.10,>=3.5 in c:\\users\\luis\\appdata\\local\\programs\\python\\python312\\lib\\site-packages (from ydata-profiling==4.16.1) (3.9.2)\n",
      "Collecting pydantic>=2 (from ydata-profiling==4.16.1)\n",
      "  Using cached pydantic-2.11.7-py3-none-any.whl.metadata (67 kB)\n",
      "Requirement already satisfied: PyYAML<6.1,>=5.0.0 in c:\\users\\luis\\appdata\\local\\programs\\python\\python312\\lib\\site-packages (from ydata-profiling==4.16.1) (6.0.2)\n",
      "Requirement already satisfied: jinja2<3.2,>=2.11.1 in c:\\users\\luis\\appdata\\local\\programs\\python\\python312\\lib\\site-packages (from ydata-profiling==4.16.1) (3.1.4)\n",
      "Collecting visions<0.8.2,>=0.7.5 (from visions[type_image_path]<0.8.2,>=0.7.5->ydata-profiling==4.16.1)\n",
      "  Using cached visions-0.8.1-py3-none-any.whl.metadata (11 kB)\n",
      "Requirement already satisfied: numpy<2.2,>=1.16.0 in c:\\users\\luis\\appdata\\local\\programs\\python\\python312\\lib\\site-packages (from ydata-profiling==4.16.1) (1.26.4)\n",
      "Collecting htmlmin==0.1.12 (from ydata-profiling==4.16.1)\n",
      "  Using cached htmlmin-0.1.12-py3-none-any.whl\n",
      "Collecting phik<0.13,>=0.11.1 (from ydata-profiling==4.16.1)\n",
      "  Using cached phik-0.12.5-cp312-cp312-win_amd64.whl.metadata (5.6 kB)\n",
      "Requirement already satisfied: requests<3,>=2.24.0 in c:\\users\\luis\\appdata\\local\\programs\\python\\python312\\lib\\site-packages (from ydata-profiling==4.16.1) (2.32.3)\n",
      "Collecting tqdm<5,>=4.48.2 (from ydata-profiling==4.16.1)\n",
      "  Using cached tqdm-4.67.1-py3-none-any.whl.metadata (57 kB)\n",
      "Collecting seaborn<0.14,>=0.10.1 (from ydata-profiling==4.16.1)\n",
      "  Using cached seaborn-0.13.2-py3-none-any.whl.metadata (5.4 kB)\n",
      "Collecting multimethod<2,>=1.4 (from ydata-profiling==4.16.1)\n",
      "  Using cached multimethod-1.12-py3-none-any.whl.metadata (9.6 kB)\n",
      "Collecting statsmodels<1,>=0.13.2 (from ydata-profiling==4.16.1)\n",
      "  Using cached statsmodels-0.14.5-cp312-cp312-win_amd64.whl.metadata (9.8 kB)\n",
      "Collecting typeguard<5,>=3 (from ydata-profiling==4.16.1)\n",
      "  Using cached typeguard-4.4.4-py3-none-any.whl.metadata (3.3 kB)\n",
      "Collecting imagehash==4.3.1 (from ydata-profiling==4.16.1)\n",
      "  Using cached ImageHash-4.3.1-py2.py3-none-any.whl.metadata (8.0 kB)\n",
      "Collecting wordcloud>=1.9.3 (from ydata-profiling==4.16.1)\n",
      "  Using cached wordcloud-1.9.4-cp312-cp312-win_amd64.whl.metadata (3.5 kB)\n",
      "Collecting dacite>=1.8 (from ydata-profiling==4.16.1)\n",
      "  Using cached dacite-1.9.2-py3-none-any.whl.metadata (17 kB)\n",
      "Collecting numba<=0.61,>=0.56.0 (from ydata-profiling==4.16.1)\n",
      "  Using cached numba-0.61.0-cp312-cp312-win_amd64.whl.metadata (2.8 kB)\n",
      "Collecting PyWavelets (from imagehash==4.3.1->ydata-profiling==4.16.1)\n",
      "  Using cached pywavelets-1.8.0-cp312-cp312-win_amd64.whl.metadata (9.0 kB)\n",
      "Requirement already satisfied: pillow in c:\\users\\luis\\appdata\\local\\programs\\python\\python312\\lib\\site-packages (from imagehash==4.3.1->ydata-profiling==4.16.1) (11.0.0)\n",
      "Requirement already satisfied: MarkupSafe>=2.0 in c:\\users\\luis\\appdata\\local\\programs\\python\\python312\\lib\\site-packages (from jinja2<3.2,>=2.11.1->ydata-profiling==4.16.1) (2.1.5)\n",
      "Requirement already satisfied: contourpy>=1.0.1 in c:\\users\\luis\\appdata\\local\\programs\\python\\python312\\lib\\site-packages (from matplotlib<=3.10,>=3.5->ydata-profiling==4.16.1) (1.3.0)\n",
      "Requirement already satisfied: cycler>=0.10 in c:\\users\\luis\\appdata\\local\\programs\\python\\python312\\lib\\site-packages (from matplotlib<=3.10,>=3.5->ydata-profiling==4.16.1) (0.12.1)\n",
      "Requirement already satisfied: fonttools>=4.22.0 in c:\\users\\luis\\appdata\\local\\programs\\python\\python312\\lib\\site-packages (from matplotlib<=3.10,>=3.5->ydata-profiling==4.16.1) (4.54.1)\n",
      "Requirement already satisfied: kiwisolver>=1.3.1 in c:\\users\\luis\\appdata\\local\\programs\\python\\python312\\lib\\site-packages (from matplotlib<=3.10,>=3.5->ydata-profiling==4.16.1) (1.4.7)\n",
      "Requirement already satisfied: packaging>=20.0 in c:\\users\\luis\\appdata\\local\\programs\\python\\python312\\lib\\site-packages (from matplotlib<=3.10,>=3.5->ydata-profiling==4.16.1) (24.1)\n",
      "Requirement already satisfied: pyparsing>=2.3.1 in c:\\users\\luis\\appdata\\local\\programs\\python\\python312\\lib\\site-packages (from matplotlib<=3.10,>=3.5->ydata-profiling==4.16.1) (3.2.0)\n",
      "Requirement already satisfied: python-dateutil>=2.7 in c:\\users\\luis\\appdata\\local\\programs\\python\\python312\\lib\\site-packages (from matplotlib<=3.10,>=3.5->ydata-profiling==4.16.1) (2.9.0.post0)\n",
      "Collecting llvmlite<0.45,>=0.44.0dev0 (from numba<=0.61,>=0.56.0->ydata-profiling==4.16.1)\n",
      "  Using cached llvmlite-0.44.0-cp312-cp312-win_amd64.whl.metadata (5.0 kB)\n",
      "Requirement already satisfied: pytz>=2020.1 in c:\\users\\luis\\appdata\\local\\programs\\python\\python312\\lib\\site-packages (from pandas!=1.4.0,<3.0,>1.1->ydata-profiling==4.16.1) (2025.2)\n",
      "Requirement already satisfied: tzdata>=2022.1 in c:\\users\\luis\\appdata\\local\\programs\\python\\python312\\lib\\site-packages (from pandas!=1.4.0,<3.0,>1.1->ydata-profiling==4.16.1) (2025.2)\n",
      "Collecting joblib>=0.14.1 (from phik<0.13,>=0.11.1->ydata-profiling==4.16.1)\n",
      "  Using cached joblib-1.5.1-py3-none-any.whl.metadata (5.6 kB)\n",
      "Collecting annotated-types>=0.6.0 (from pydantic>=2->ydata-profiling==4.16.1)\n",
      "  Using cached annotated_types-0.7.0-py3-none-any.whl.metadata (15 kB)\n",
      "Collecting pydantic-core==2.33.2 (from pydantic>=2->ydata-profiling==4.16.1)\n",
      "  Using cached pydantic_core-2.33.2-cp312-cp312-win_amd64.whl.metadata (6.9 kB)\n",
      "Collecting typing-extensions>=4.12.2 (from pydantic>=2->ydata-profiling==4.16.1)\n",
      "  Using cached typing_extensions-4.14.1-py3-none-any.whl.metadata (3.0 kB)\n",
      "Collecting typing-inspection>=0.4.0 (from pydantic>=2->ydata-profiling==4.16.1)\n",
      "  Using cached typing_inspection-0.4.1-py3-none-any.whl.metadata (2.6 kB)\n",
      "Requirement already satisfied: charset-normalizer<4,>=2 in c:\\users\\luis\\appdata\\local\\programs\\python\\python312\\lib\\site-packages (from requests<3,>=2.24.0->ydata-profiling==4.16.1) (3.3.2)\n",
      "Requirement already satisfied: idna<4,>=2.5 in c:\\users\\luis\\appdata\\local\\programs\\python\\python312\\lib\\site-packages (from requests<3,>=2.24.0->ydata-profiling==4.16.1) (3.10)\n",
      "Requirement already satisfied: urllib3<3,>=1.21.1 in c:\\users\\luis\\appdata\\local\\programs\\python\\python312\\lib\\site-packages (from requests<3,>=2.24.0->ydata-profiling==4.16.1) (2.2.3)\n",
      "Requirement already satisfied: certifi>=2017.4.17 in c:\\users\\luis\\appdata\\local\\programs\\python\\python312\\lib\\site-packages (from requests<3,>=2.24.0->ydata-profiling==4.16.1) (2024.8.30)\n",
      "Collecting patsy>=0.5.6 (from statsmodels<1,>=0.13.2->ydata-profiling==4.16.1)\n",
      "  Using cached patsy-1.0.1-py2.py3-none-any.whl.metadata (3.3 kB)\n",
      "Requirement already satisfied: colorama in c:\\users\\luis\\appdata\\local\\programs\\python\\python312\\lib\\site-packages (from tqdm<5,>=4.48.2->ydata-profiling==4.16.1) (0.4.6)\n",
      "Requirement already satisfied: attrs>=19.3.0 in c:\\users\\luis\\appdata\\local\\programs\\python\\python312\\lib\\site-packages (from visions<0.8.2,>=0.7.5->visions[type_image_path]<0.8.2,>=0.7.5->ydata-profiling==4.16.1) (24.2.0)\n",
      "Requirement already satisfied: networkx>=2.4 in c:\\users\\luis\\appdata\\local\\programs\\python\\python312\\lib\\site-packages (from visions<0.8.2,>=0.7.5->visions[type_image_path]<0.8.2,>=0.7.5->ydata-profiling==4.16.1) (3.5)\n",
      "Collecting puremagic (from visions<0.8.2,>=0.7.5->visions[type_image_path]<0.8.2,>=0.7.5->ydata-profiling==4.16.1)\n",
      "  Using cached puremagic-1.30-py3-none-any.whl.metadata (5.8 kB)\n",
      "Requirement already satisfied: six>=1.5 in c:\\users\\luis\\appdata\\local\\programs\\python\\python312\\lib\\site-packages (from python-dateutil>=2.7->matplotlib<=3.10,>=3.5->ydata-profiling==4.16.1) (1.16.0)\n",
      "Using cached ydata_profiling-4.16.1-py2.py3-none-any.whl (400 kB)\n",
      "Using cached ImageHash-4.3.1-py2.py3-none-any.whl (296 kB)\n",
      "Using cached dacite-1.9.2-py3-none-any.whl (16 kB)\n",
      "Using cached multimethod-1.12-py3-none-any.whl (10 kB)\n",
      "Using cached numba-0.61.0-cp312-cp312-win_amd64.whl (2.8 MB)\n",
      "Using cached phik-0.12.5-cp312-cp312-win_amd64.whl (676 kB)\n",
      "Using cached pydantic-2.11.7-py3-none-any.whl (444 kB)\n",
      "Using cached pydantic_core-2.33.2-cp312-cp312-win_amd64.whl (2.0 MB)\n",
      "Using cached seaborn-0.13.2-py3-none-any.whl (294 kB)\n",
      "Using cached statsmodels-0.14.5-cp312-cp312-win_amd64.whl (9.6 MB)\n",
      "Using cached tqdm-4.67.1-py3-none-any.whl (78 kB)\n",
      "Using cached typeguard-4.4.4-py3-none-any.whl (34 kB)\n",
      "Using cached visions-0.8.1-py3-none-any.whl (105 kB)\n",
      "Using cached wordcloud-1.9.4-cp312-cp312-win_amd64.whl (301 kB)\n",
      "Using cached annotated_types-0.7.0-py3-none-any.whl (13 kB)\n",
      "Using cached joblib-1.5.1-py3-none-any.whl (307 kB)\n",
      "Using cached llvmlite-0.44.0-cp312-cp312-win_amd64.whl (30.3 MB)\n",
      "Using cached patsy-1.0.1-py2.py3-none-any.whl (232 kB)\n",
      "Using cached typing_extensions-4.14.1-py3-none-any.whl (43 kB)\n",
      "Using cached typing_inspection-0.4.1-py3-none-any.whl (14 kB)\n",
      "Using cached puremagic-1.30-py3-none-any.whl (43 kB)\n",
      "Using cached pywavelets-1.8.0-cp312-cp312-win_amd64.whl (4.2 MB)\n",
      "Installing collected packages: puremagic, htmlmin, typing-extensions, tqdm, PyWavelets, patsy, multimethod, llvmlite, joblib, dacite, annotated-types, typing-inspection, typeguard, pydantic-core, numba, imagehash, wordcloud, visions, statsmodels, seaborn, pydantic, phik, ydata-profiling\n",
      "Successfully installed PyWavelets-1.8.0 annotated-types-0.7.0 dacite-1.9.2 htmlmin-0.1.12 imagehash-4.3.1 joblib-1.5.1 llvmlite-0.44.0 multimethod-1.12 numba-0.61.0 patsy-1.0.1 phik-0.12.5 puremagic-1.30 pydantic-2.11.7 pydantic-core-2.33.2 seaborn-0.13.2 statsmodels-0.14.5 tqdm-4.67.1 typeguard-4.4.4 typing-extensions-4.14.1 typing-inspection-0.4.1 visions-0.8.1 wordcloud-1.9.4 ydata-profiling-4.16.1\n",
      "Note: you may need to restart the kernel to use updated packages.\n"
     ]
    },
    {
     "name": "stderr",
     "output_type": "stream",
     "text": [
      "\n",
      "[notice] A new release of pip is available: 24.3.1 -> 25.1.1\n",
      "[notice] To update, run: python.exe -m pip install --upgrade pip\n"
     ]
    }
   ],
   "source": [
    "pip install ydata-profiling==4.16.1"
   ]
  },
  {
   "cell_type": "code",
   "execution_count": 6,
   "id": "76914731",
   "metadata": {},
   "outputs": [
    {
     "name": "stderr",
     "output_type": "stream",
     "text": [
      "c:\\Users\\Luis\\AppData\\Local\\Programs\\Python\\Python312\\Lib\\site-packages\\tqdm\\auto.py:21: TqdmWarning: IProgress not found. Please update jupyter and ipywidgets. See https://ipywidgets.readthedocs.io/en/stable/user_install.html\n",
      "  from .autonotebook import tqdm as notebook_tqdm\n"
     ]
    },
    {
     "data": {
      "text/html": [
       "\n",
       "            <div>\n",
       "                <ins><a href=\"https://ydata.ai/register\">Upgrade to ydata-sdk</a></ins>\n",
       "                <p>\n",
       "                    Improve your data and profiling with ydata-sdk, featuring data quality scoring, redundancy detection, outlier identification, text validation, and synthetic data generation.\n",
       "                </p>\n",
       "            </div>\n",
       "            "
      ],
      "text/plain": [
       "<IPython.core.display.HTML object>"
      ]
     },
     "metadata": {},
     "output_type": "display_data"
    },
    {
     "name": "stdout",
     "output_type": "stream",
     "text": [
      "ydata-profiling: v4.16.1\n"
     ]
    }
   ],
   "source": [
    "import ydata_profiling\n",
    "print(\"ydata-profiling:\", ydata_profiling.__version__)  # ydata-profiling: 4.3.0"
   ]
  },
  {
   "cell_type": "code",
   "execution_count": null,
   "id": "4ef737ea",
   "metadata": {},
   "outputs": [],
   "source": [
    "#pip install scipy==1.11.4"
   ]
  },
  {
   "cell_type": "code",
   "execution_count": 25,
   "id": "484ffec3",
   "metadata": {},
   "outputs": [
    {
     "name": "stdout",
     "output_type": "stream",
     "text": [
      "\n",
      "--- Procesando `npc_sub_digrafh_python` (../../NPC_SUB_DIGRAFH_PYTHON_CODE/results.csv) ---\n"
     ]
    },
    {
     "name": "stderr",
     "output_type": "stream",
     "text": [
      "100%|██████████| 9/9 [00:00<00:00, 1454.84it/s]<00:00, 50.29it/s, Describe variable: ops BT]   \n",
      "Summarize dataset: 100%|██████████| 67/67 [00:07<00:00,  9.24it/s, Completed]                   \n",
      "Generate report structure: 100%|██████████| 1/1 [00:02<00:00,  2.98s/it]\n",
      "Render HTML: 100%|██████████| 1/1 [00:00<00:00,  1.89it/s]\n",
      "Export report to file: 100%|██████████| 1/1 [00:00<00:00, 151.86it/s]\n"
     ]
    },
    {
     "name": "stdout",
     "output_type": "stream",
     "text": [
      "→ Guardado: Report_numeric_npc_sub_digrafh_python.html\n",
      "\n",
      "--- Procesando `npc_sub_digrafh_java` (../../NPC_SUB_DIGRAFH_JAVA_CODE/results.csv) ---\n"
     ]
    },
    {
     "name": "stderr",
     "output_type": "stream",
     "text": [
      "100%|██████████| 5/5 [00:00<00:00, 4996.79it/s]<00:00, 31.80it/s, Describe variable: tiempo BT]\n",
      "Summarize dataset: 100%|██████████| 39/39 [00:03<00:00, 10.34it/s, Completed]                   \n",
      "Generate report structure: 100%|██████████| 1/1 [00:01<00:00,  1.81s/it]\n",
      "Render HTML: 100%|██████████| 1/1 [00:00<00:00,  3.05it/s]\n",
      "Export report to file: 100%|██████████| 1/1 [00:00<00:00, 231.44it/s]"
     ]
    },
    {
     "name": "stdout",
     "output_type": "stream",
     "text": [
      "→ Guardado: Report_numeric_npc_sub_digrafh_java.html\n"
     ]
    },
    {
     "name": "stderr",
     "output_type": "stream",
     "text": [
      "\n"
     ]
    }
   ],
   "source": [
    "import os\n",
    "import pandas as pd\n",
    "import numpy as np\n",
    "from ydata_profiling import ProfileReport\n",
    "\n",
    "csv_paths = [\n",
    "    '../../NPC_SUB_DIGRAFH_PYTHON_CODE/results.csv',\n",
    "    '../../NPC_SUB_DIGRAFH_JAVA_CODE/results.csv'\n",
    "]\n",
    "\n",
    "metric_cols = ['tiempo BF','tiempo DC','tiempo BT']\n",
    "\n",
    "for path in csv_paths:\n",
    "    # <-- aquí sacamos el nombre de la carpeta contenedora\n",
    "    parent = os.path.basename( os.path.dirname(path) )\n",
    "    name   = parent.lower().replace('_code','')  # opcional: limpiamos el sufijo\n",
    "    \n",
    "    print(f\"\\n--- Procesando `{name}` ({path}) ---\")\n",
    "    df = pd.read_csv(path, sep=';', encoding='utf-8')\n",
    "\n",
    "    # Reemplazar TIMEOUT y convertir a float\n",
    "    for col in metric_cols:\n",
    "        if col in df.columns:\n",
    "            df[col] = pd.to_numeric(df[col].replace(\"TIMEOUT\", np.nan),\n",
    "                                     errors='coerce')\n",
    "\n",
    "    # Filtrar sólo numéricos\n",
    "    df_num = df.select_dtypes(include=[np.number])\n",
    "\n",
    "    # Generar el reporte (desactivando χ² en num y cat)\n",
    "    profile = ProfileReport(\n",
    "        df_num,\n",
    "        title=f\"Reporte_numérico_{name}\",\n",
    "        explorative=True,\n",
    "        minimal=False,\n",
    "        vars={\n",
    "            \"num\": { \"chi_squared_threshold\": 0.0 },\n",
    "            \"cat\": { \"chi_squared_threshold\": 0.0 }\n",
    "        }\n",
    "    )\n",
    "\n",
    "    # <-- ahora los nombres son distintos: e.g. Report_numeric_npc_sub_digrafh_python\n",
    "    out_file = f\"Report_numeric_{name}.html\"\n",
    "    profile.to_file(out_file)\n",
    "    print(f\"→ Guardado: {out_file}\")\n"
   ]
  }
 ],
 "metadata": {
  "kernelspec": {
   "display_name": "Python 3",
   "language": "python",
   "name": "python3"
  },
  "language_info": {
   "codemirror_mode": {
    "name": "ipython",
    "version": 3
   },
   "file_extension": ".py",
   "mimetype": "text/x-python",
   "name": "python",
   "nbconvert_exporter": "python",
   "pygments_lexer": "ipython3",
   "version": "3.12.2"
  }
 },
 "nbformat": 4,
 "nbformat_minor": 5
}
